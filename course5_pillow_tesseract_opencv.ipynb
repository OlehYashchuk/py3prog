{
 "cells": [
  {
   "cell_type": "markdown",
   "metadata": {},
   "source": [
    "# Pillow"
   ]
  },
  {
   "cell_type": "code",
   "execution_count": null,
   "metadata": {},
   "outputs": [],
   "source": [
    "# Ok, we see that this returns us a kind of PIL.GifImagePlugin.GifImageFile. At first this might\n",
    "# seem a bit confusing, since because we were told by the docs that we should be exepcting a\n",
    "# PIL.Image.Image object back. But this is just object inheritance working! In fact, the object\n",
    "# returned is both an Image and a GifImageFile. We can use the python inspect module to see this\n",
    "# as the getmro function will return a list of all of the classes that are being inherited by a\n",
    "# given object. Lets try it.\n",
    "\n",
    "import inspect\n",
    "print(\"The type of the image is \" + str(type(image)))\n",
    "inspect.getmro(type(image))"
   ]
  },
  {
   "cell_type": "markdown",
   "metadata": {},
   "source": [
    "# Tesseract"
   ]
  },
  {
   "cell_type": "markdown",
   "metadata": {},
   "source": [
    "For the rest of the lectures in this module, we're going to use two projects the tesseract project, which is now ran by Google and the Pytesseract bindings, which allows us to use the tesseract system from within Python."
   ]
  },
  {
   "cell_type": "markdown",
   "metadata": {},
   "source": [
    "#### Important note about Tesseract license. \n",
    "Tesseract is released under the Apache License. This means that we can use it in commercially licensed software unless we change tesseract itself. However, PyTesseract is released under the GPL. That means by importing this library into your own code, if we share it with others, we must also license our code under the GPL."
   ]
  },
  {
   "cell_type": "markdown",
   "metadata": {},
   "source": [
    "https://ipywidgets.readthedocs.io/en/stable/"
   ]
  },
  {
   "cell_type": "code",
   "execution_count": null,
   "metadata": {},
   "outputs": [],
   "source": []
  }
 ],
 "metadata": {
  "kernelspec": {
   "display_name": "Python 3",
   "language": "python",
   "name": "python3"
  },
  "language_info": {
   "codemirror_mode": {
    "name": "ipython",
    "version": 3
   },
   "file_extension": ".py",
   "mimetype": "text/x-python",
   "name": "python",
   "nbconvert_exporter": "python",
   "pygments_lexer": "ipython3",
   "version": "3.7.2"
  }
 },
 "nbformat": 4,
 "nbformat_minor": 2
}
