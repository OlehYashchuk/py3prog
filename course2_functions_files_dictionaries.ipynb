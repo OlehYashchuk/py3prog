{
 "cells": [
  {
   "cell_type": "markdown",
   "metadata": {},
   "source": [
    "# Python Functions, Files, and Dictionaries"
   ]
  },
  {
   "cell_type": "markdown",
   "metadata": {},
   "source": [
    "# Files and CSV Output"
   ]
  },
  {
   "cell_type": "markdown",
   "metadata": {},
   "source": [
    "## Reading a File"
   ]
  },
  {
   "cell_type": "code",
   "execution_count": 1,
   "metadata": {},
   "outputs": [],
   "source": [
    "fileref = open(\"data/course2_example.txt\",\"r\")\n",
    "## other code here that refers to variable fileref\n",
    "\n",
    "fileref.close()"
   ]
  },
  {
   "cell_type": "code",
   "execution_count": 2,
   "metadata": {},
   "outputs": [],
   "source": [
    "olypmicsfile = open(\"data/course2_example.txt\",\"r\")\n",
    "\n",
    "for aline in olypmicsfile.readlines():\n",
    "    pass\n",
    "#     values = aline.split(\",\")\n",
    "#     print(values[0], \"is from\", values[3], \"and is on the roster for\", values[4])\n",
    "\n",
    "olypmicsfile.close()"
   ]
  },
  {
   "cell_type": "markdown",
   "metadata": {},
   "source": [
    "## Using with for Files"
   ]
  },
  {
   "cell_type": "markdown",
   "metadata": {},
   "source": [
    "`with <create some object that understands context> as <some name>:\n",
    "    do some stuff with the object\n",
    "    ...`"
   ]
  },
  {
   "cell_type": "code",
   "execution_count": 3,
   "metadata": {},
   "outputs": [],
   "source": [
    "fname = \"data/course2_example.txt\"\n",
    "with open(fname, 'r') as fileref:         # step 1\n",
    "    for lin in fileref:                   # step 2\n",
    "        pass\n",
    "        ## some code that reference the variable lin\n",
    "#some other code not relying on fileref   # step 3"
   ]
  },
  {
   "cell_type": "markdown",
   "metadata": {},
   "source": [
    "## Writing Text Files"
   ]
  },
  {
   "cell_type": "code",
   "execution_count": 4,
   "metadata": {},
   "outputs": [],
   "source": [
    "filename = \"data/course2_squared_numbers.txt\"\n",
    "outfile = open(filename, \"w\")\n",
    "\n",
    "for number in range(1, 13):\n",
    "    square = number * number\n",
    "    outfile.write(str(square) + \"\\n\")\n",
    "\n",
    "outfile.close()"
   ]
  },
  {
   "cell_type": "markdown",
   "metadata": {},
   "source": [
    "## Reading in data from a CSV File"
   ]
  },
  {
   "cell_type": "code",
   "execution_count": 5,
   "metadata": {},
   "outputs": [
    {
     "name": "stdout",
     "output_type": "stream",
     "text": [
      "['\"Name\"', '\"Age\"', '\"Sport\"']\n"
     ]
    }
   ],
   "source": [
    "fileconnection = open(\"data/course2_reduced_olympics2.csv\", 'r')\n",
    "lines = fileconnection.readlines()\n",
    "header = lines[0]\n",
    "field_names = header.strip().split(',')\n",
    "print(field_names)\n",
    "for row in lines[1:]:\n",
    "    continue\n",
    "    vals = row.strip().split(',')\n",
    "    if vals[5] != \"NA\":\n",
    "        print(\"{}: {}; {}\".format(\n",
    "                vals[0],\n",
    "                vals[4],\n",
    "                vals[5]))"
   ]
  },
  {
   "cell_type": "markdown",
   "metadata": {},
   "source": [
    "## Writing data to a CSV File"
   ]
  },
  {
   "cell_type": "code",
   "execution_count": 6,
   "metadata": {},
   "outputs": [],
   "source": [
    "olympians = [(\"John Aalberg\", 31, \"Cross Country Skiing, 15KM\"),\n",
    "            (\"Minna Maarit Aalto\", 30, \"Sailing\"),\n",
    "            (\"Win Valdemar Aaltonen\", 54, \"Art Competitions\"),\n",
    "            (\"Wakako Abe\", 18, \"Cycling\")]\n",
    "\n",
    "outfile = open(\"data/course2_reduced_olympics2.csv\",\"w\")\n",
    "# output the header row\n",
    "outfile.write('\"Name\",\"Age\",\"Sport\"')\n",
    "outfile.write('\\n')\n",
    "# output each of the rows:\n",
    "for olympian in olympians:\n",
    "    row_string = '\"{}\", \"{}\", \"{}\"'.format(olympian[0], olympian[1], olympian[2])\n",
    "    outfile.write(row_string)\n",
    "    outfile.write('\\n')\n",
    "outfile.close()"
   ]
  },
  {
   "cell_type": "markdown",
   "metadata": {},
   "source": [
    "# Dictionaries and Dictionary Accumulation"
   ]
  },
  {
   "cell_type": "markdown",
   "metadata": {},
   "source": [
    "One way to create a dictionary is to start with the empty dictionary and add key-value pairs. The empty dictionary is denoted {}."
   ]
  },
  {
   "cell_type": "code",
   "execution_count": 7,
   "metadata": {},
   "outputs": [],
   "source": [
    "swimmers = {'Manuel':4, 'Lochte':12, 'Adrian':7, 'Ledecky':5, 'Dirado':4, 'Phelps':23}\n",
    "swimmers['Phelps'] = swimmers['Phelps'] + 5"
   ]
  },
  {
   "cell_type": "markdown",
   "metadata": {},
   "source": [
    "## Dictionary methods\n",
    "\n",
    "| Method | Parameters | Description                                             |\n",
    "|--------|------------|---------------------------------------------------------|\n",
    "| keys   | none       | Returns a view of the keys in the dictionary            |\n",
    "| values | none       | Returns a view of the values in the dictionary          |\n",
    "| items  | none       | Returns a view of the key-value pairs in the dictionary |\n",
    "| get    | key        | Returns the value associated with key; None otherwise   |\n",
    "| get    | key,alt    | Returns the value associated with key; alt otherwise    |"
   ]
  },
  {
   "cell_type": "markdown",
   "metadata": {},
   "source": [
    "## Aliasing and copying"
   ]
  },
  {
   "cell_type": "code",
   "execution_count": 8,
   "metadata": {},
   "outputs": [
    {
     "name": "stdout",
     "output_type": "stream",
     "text": [
      "True\n",
      "left\n"
     ]
    }
   ],
   "source": [
    "opposites = {'up': 'down', 'right': 'wrong', 'true': 'false'}\n",
    "alias = opposites\n",
    "\n",
    "print(alias is opposites)\n",
    "\n",
    "alias['right'] = 'left'\n",
    "print(opposites['right'])"
   ]
  },
  {
   "cell_type": "code",
   "execution_count": 9,
   "metadata": {},
   "outputs": [],
   "source": [
    "acopy = opposites.copy()\n",
    "acopy['right'] = 'left'    # does not change opposites"
   ]
  },
  {
   "cell_type": "markdown",
   "metadata": {},
   "source": [
    "## When to use a dictionary"
   ]
  },
  {
   "cell_type": "markdown",
   "metadata": {},
   "source": [
    "Now that you have experience using lists and dictionaries, you will have to decide which one is best to use in each situation. The following guidelines will help you recognize when a dictionary will be beneficial:\n",
    "\n",
    "* When a piece of data consists of a set of properties of a single item, a dictionary is often better. You could try to keep track mentally that the zip code property is at index 2 in a list, but your code will be easier to read and you will make fewer mistakes if you can look up mydiction[‘zipcode’] than if you look up mylst[2].\n",
    "* When you have a collection of data pairs, and you will often have to look up one of the pairs based on its first value, it is better to use a dictionary than a list of (key, value) tuples. With a dictionary, you can find the value for any (key, value) tuple by looking up the key. With a list of tuples you would need to iterate through the list, examining each pair to see if it had the key that you want.\n",
    "* On the other hand, if you will have a collection of data pairs where multiple pairs share the same first data element, then you can’t use a dictionary, because a dictionary requires all the keys to be distinct from each other."
   ]
  },
  {
   "cell_type": "markdown",
   "metadata": {},
   "source": [
    "# Functions and Tuples"
   ]
  },
  {
   "cell_type": "markdown",
   "metadata": {},
   "source": [
    "To build your understanding of any function, you should aim to answer the following questions:\n",
    "\n",
    "* How many parameters does it have?\n",
    "* What is the type of values that will be passed when the function is invoked?\n",
    "* What is the type of the return value that the function produces when it executes?"
   ]
  },
  {
   "cell_type": "markdown",
   "metadata": {},
   "source": [
    "### Passing Mutable Objects !!!\n",
    "This sheds a little different light on the idea of parameters being local. They are local in the sense that if you have a parameter x inside a function and there is a global variable x, any reference to x inside the function gets you the value of local variable x, not the global one. If you set x = 3, it changes the value of the local variable x, but when the function finishes executing, that local x disappears, and so does the value 3.\n",
    "\n",
    "If, one the other hand, the local variable x points to a list [1, 3, 7], setting x[2] = 0 makes x still point to the same list, but changes the list’s contents to [1, 3, 0]. The local variable x is discarded when the function completes execution, but the mutation to the list lives on if there is some other variable outside the function that also is an alias for the same list."
   ]
  },
  {
   "cell_type": "code",
   "execution_count": 10,
   "metadata": {},
   "outputs": [
    {
     "name": "stdout",
     "output_type": "stream",
     "text": [
      "5\n",
      "['Michigan', 'Wolverines', 'are', 'awesome']\n"
     ]
    }
   ],
   "source": [
    "def double(y):\n",
    "    y = 2 * y\n",
    "\n",
    "def changeit(lst):\n",
    "    lst[0] = \"Michigan\"\n",
    "    lst[1] = \"Wolverines\"\n",
    "\n",
    "y = 5\n",
    "double(y)\n",
    "print(y)\n",
    "\n",
    "mylst = ['our', 'students', 'are', 'awesome']\n",
    "changeit(mylst)\n",
    "print(mylst)"
   ]
  },
  {
   "cell_type": "markdown",
   "metadata": {},
   "source": [
    "## Side Effects\n",
    "In general, any lasting effect that occurs in a function, not through its return value, is called a side effect. There are three ways to have side effects:\n",
    "* Printing out a value. This doesn’t change any objects or variable bindings, but it does have a potential lasting effect outside the function execution, because a person might see the output and be influenced by it.\n",
    "* Changing the value of a mutable object.\n",
    "* Changing the binding of a global variable."
   ]
  },
  {
   "cell_type": "markdown",
   "metadata": {},
   "source": [
    "## Tuple Packing\n",
    "\n",
    "Wherever python expects a single value, if multiple expressions are provided, separated by commas, they are automatically packed into a tuple. For example, we could have omitted the parentheses when first assigning a tuple to the variable julia."
   ]
  },
  {
   "cell_type": "code",
   "execution_count": 11,
   "metadata": {},
   "outputs": [
    {
     "name": "stdout",
     "output_type": "stream",
     "text": [
      "2009\n"
     ]
    }
   ],
   "source": [
    "julia = (\"Julia\", \"Roberts\", 1967, \"Duplicity\", 2009, \"Actress\", \"Atlanta, Georgia\")\n",
    "# or equivalently\n",
    "julia = \"Julia\", \"Roberts\", 1967, \"Duplicity\", 2009, \"Actress\", \"Atlanta, Georgia\"\n",
    "print(julia[4])"
   ]
  },
  {
   "cell_type": "markdown",
   "metadata": {},
   "source": [
    "## Tuples as Return Values\n",
    "Functions can return tuples as return values. "
   ]
  },
  {
   "cell_type": "code",
   "execution_count": 12,
   "metadata": {},
   "outputs": [
    {
     "name": "stdout",
     "output_type": "stream",
     "text": [
      "(62.8318, 314.159)\n"
     ]
    }
   ],
   "source": [
    "def circleInfo(r):\n",
    "    \"\"\" Return (circumference, area) of a circle of radius r \"\"\"\n",
    "    c = 2 * 3.14159 * r\n",
    "    a = 3.14159 * r * r\n",
    "    return (c, a)\n",
    "\n",
    "print(circleInfo(10))"
   ]
  },
  {
   "cell_type": "markdown",
   "metadata": {},
   "source": [
    "## Tuple Assignment with unpacking"
   ]
  },
  {
   "cell_type": "code",
   "execution_count": 13,
   "metadata": {},
   "outputs": [],
   "source": [
    "julia = \"Julia\", \"Roberts\", 1967, \"Duplicity\", 2009, \"Actress\", \"Atlanta, Georgia\"\n",
    "\n",
    "name, surname, birth_year, movie, movie_year, profession, birth_place = julia"
   ]
  },
  {
   "cell_type": "code",
   "execution_count": 15,
   "metadata": {},
   "outputs": [
    {
     "data": {
      "text/plain": [
       "[31, 19, 19, 13, 12, 10, 8, 8]"
      ]
     },
     "execution_count": 15,
     "metadata": {},
     "output_type": "execute_result"
    }
   ],
   "source": [
    "gold = {'USA':31, 'Great Britain':19, 'China':19, 'Germany':13, 'Russia':12, 'Japan':10, 'France':8, 'Italy':8}\n",
    "\n",
    "num_medals = []\n",
    "for _, medals in gold.items():\n",
    "    num_medals.append(medals)\n",
    "num_medals"
   ]
  },
  {
   "cell_type": "markdown",
   "metadata": {},
   "source": [
    "## Advanced functions\n",
    "### Keyword Parameters\n",
    "\n",
    "https://docs.python.org/3/tutorial/controlflow.html#keyword-arguments"
   ]
  },
  {
   "cell_type": "code",
   "execution_count": 25,
   "metadata": {},
   "outputs": [
    {
     "name": "stdout",
     "output_type": "stream",
     "text": [
      "-- This parrot wouldn't voom if you put 1000 volts through it.\n",
      "-- Lovely plumage, the Norwegian Blue\n",
      "-- It's a stiff !\n",
      "-- This parrot wouldn't voom if you put 1000 volts through it.\n",
      "-- Lovely plumage, the Norwegian Blue\n",
      "-- It's a stiff !\n",
      "-- This parrot wouldn't VOOOOOM if you put 1000000 volts through it.\n",
      "-- Lovely plumage, the Norwegian Blue\n",
      "-- It's a stiff !\n",
      "-- This parrot wouldn't VOOOOOM if you put 1000000 volts through it.\n",
      "-- Lovely plumage, the Norwegian Blue\n",
      "-- It's a stiff !\n",
      "-- This parrot wouldn't jump if you put a million volts through it.\n",
      "-- Lovely plumage, the Norwegian Blue\n",
      "-- It's bereft of life !\n",
      "-- This parrot wouldn't voom if you put a thousand volts through it.\n",
      "-- Lovely plumage, the Norwegian Blue\n",
      "-- It's pushing up the daisies !\n"
     ]
    }
   ],
   "source": [
    "def parrot(voltage, state='a stiff', action='voom', type='Norwegian Blue'):\n",
    "    print(\"-- This parrot wouldn't\", action, end=' ')\n",
    "    print(\"if you put\", voltage, \"volts through it.\")\n",
    "    print(\"-- Lovely plumage, the\", type)\n",
    "    print(\"-- It's\", state, \"!\")\n",
    "\n",
    "parrot(1000)                                          # 1 positional argument\n",
    "parrot(voltage=1000)                                  # 1 keyword argument\n",
    "parrot(voltage=1000000, action='VOOOOOM')             # 2 keyword arguments\n",
    "parrot(action='VOOOOOM', voltage=1000000)             # 2 keyword arguments\n",
    "parrot('a million', 'bereft of life', 'jump')         # 3 positional arguments\n",
    "parrot('a thousand', state='pushing up the daisies')  # 1 positional, 1 keyword"
   ]
  },
  {
   "cell_type": "code",
   "execution_count": 24,
   "metadata": {},
   "outputs": [
    {
     "name": "stdout",
     "output_type": "stream",
     "text": [
      "-- Do you have any Limburger ?\n",
      "-- I'm sorry, we're all out of Limburger\n",
      "It's very runny, sir.\n",
      "It's really very, VERY runny, sir.\n",
      "----------------------------------------\n",
      "shopkeeper : Michael Palin\n",
      "client : John Cleese\n",
      "sketch : Cheese Shop Sketch\n"
     ]
    }
   ],
   "source": [
    "def cheeseshop(kind, *arguments, **keywords):\n",
    "    print(\"-- Do you have any\", kind, \"?\")\n",
    "    print(\"-- I'm sorry, we're all out of\", kind)\n",
    "    for arg in arguments:\n",
    "        print(arg)\n",
    "    print(\"-\" * 40)\n",
    "    for kw in keywords:\n",
    "        print(kw, \":\", keywords[kw])\n",
    "\n",
    "cheeseshop(\"Limburger\", \"It's very runny, sir.\",\n",
    "           \"It's really very, VERY runny, sir.\",\n",
    "           shopkeeper=\"Michael Palin\",\n",
    "           client=\"John Cleese\",\n",
    "           sketch=\"Cheese Shop Sketch\")"
   ]
  },
  {
   "cell_type": "code",
   "execution_count": 22,
   "metadata": {},
   "outputs": [
    {
     "data": {
      "text/plain": [
       "'earth.mars.venus'"
      ]
     },
     "execution_count": 22,
     "metadata": {},
     "output_type": "execute_result"
    }
   ],
   "source": [
    "def concat(*args, sep=\"/\"):\n",
    "     return sep.join(args)\n",
    "\n",
    "concat(\"earth\", \"mars\", \"venus\", sep=\".\")"
   ]
  },
  {
   "cell_type": "markdown",
   "metadata": {},
   "source": [
    "## Anonymous functions with lambda expressions"
   ]
  },
  {
   "cell_type": "code",
   "execution_count": 26,
   "metadata": {},
   "outputs": [
    {
     "name": "stdout",
     "output_type": "stream",
     "text": [
      "<function <lambda> at 0x105afd400>\n",
      "<class 'function'>\n",
      "4\n"
     ]
    }
   ],
   "source": [
    "print(lambda x: x-2)\n",
    "print(type(lambda x: x-2))\n",
    "print((lambda x: x-2)(6))"
   ]
  },
  {
   "cell_type": "markdown",
   "metadata": {},
   "source": [
    "## Sorting with Sort and Sorted"
   ]
  },
  {
   "cell_type": "markdown",
   "metadata": {},
   "source": [
    "Note that the sort method does not return a sorted version of the list. In fact, it returns the value None. But the list itself has been modified. This kind of operation that works by having a side effect on the list can be quite confusing.\n",
    "\n",
    "In this course, we will generally use an alternative way of sorting, the function sorted rather than the method sort. Because it is a function rather than a method, it is invoked on a list by passing the list as a parameter inside the parentheses, rather than putting the list before the period. More importantly, sorted does not change the original list. Instead, it returns a new list."
   ]
  },
  {
   "cell_type": "code",
   "execution_count": 27,
   "metadata": {},
   "outputs": [
    {
     "name": "stdout",
     "output_type": "stream",
     "text": [
      "['Cherry', 'Blueberry', 'Apple']\n"
     ]
    }
   ],
   "source": [
    "L2 = [\"Cherry\", \"Apple\", \"Blueberry\"]\n",
    "print(sorted(L2, reverse=True))"
   ]
  },
  {
   "cell_type": "code",
   "execution_count": 32,
   "metadata": {},
   "outputs": [
    {
     "name": "stdout",
     "output_type": "stream",
     "text": [
      "['19', '14378', '8907', '16', '1005', '44', '33', '32', '871', '1450']\n",
      "['19', '14378', '8907', '16', '1005', '44', '33', '32', '871', '1450']\n"
     ]
    }
   ],
   "source": [
    "# Sort the list nums based on the last digit of each number from highest to lowest.\n",
    "nums = ['1450', '33', '871', '19', '14378', '32', '1005', '44', '8907', '16']\n",
    "nums_sorted_lambda = sorted(nums, reverse=True, key=lambda s: s[-1])\n",
    "print(nums_sorted_lambda)\n",
    "\n",
    "def last_char(s):\n",
    "    return s[-1]\n",
    "nums_sorted = sorted(nums, reverse=True, key=last_char)\n",
    "print(nums_sorted)"
   ]
  },
  {
   "cell_type": "markdown",
   "metadata": {},
   "source": [
    "### Sorting a Dictionary"
   ]
  },
  {
   "cell_type": "code",
   "execution_count": 35,
   "metadata": {},
   "outputs": [
    {
     "data": {
      "text/plain": [
       "['Chairs', 'Firepit', 'Flowers', 'Grill', 'Lights', 'Trees']"
      ]
     },
     "execution_count": 35,
     "metadata": {},
     "output_type": "execute_result"
    }
   ],
   "source": [
    "dictionary = {\"Flowers\": 10, 'Trees': 20, 'Chairs': 6, \"Firepit\": 1, 'Grill': 2, 'Lights': 14}\n",
    "sorted_keys = sorted(dictionary.keys())\n",
    "sorted_keys"
   ]
  },
  {
   "cell_type": "code",
   "execution_count": 36,
   "metadata": {},
   "outputs": [
    {
     "data": {
      "text/plain": [
       "['Trees', 'Lights', 'Flowers', 'Chairs', 'Grill', 'Firepit']"
      ]
     },
     "execution_count": 36,
     "metadata": {},
     "output_type": "execute_result"
    }
   ],
   "source": [
    "dictionary = {\"Flowers\": 10, 'Trees': 20, 'Chairs': 6, \"Firepit\": 1, 'Grill': 2, 'Lights': 14}\n",
    "sorted_values = sorted(dictionary, reverse=True, key=lambda x: dictionary[x])\n",
    "sorted_values"
   ]
  },
  {
   "cell_type": "markdown",
   "metadata": {},
   "source": [
    "### Second Sorting"
   ]
  },
  {
   "cell_type": "code",
   "execution_count": null,
   "metadata": {},
   "outputs": [],
   "source": [
    "fruits = ['peach', 'kiwi', 'apple', 'blueberry', 'papaya', 'mango', 'pear']\n",
    "new_order = sorted(fruits, key=lambda fruit_name: (-len(fruit_name), fruit_name))\n",
    "for fruit in new_order:\n",
    "    print(fruit)"
   ]
  },
  {
   "cell_type": "markdown",
   "metadata": {},
   "source": [
    "### When to use a Lambda Expression"
   ]
  },
  {
   "cell_type": "code",
   "execution_count": 37,
   "metadata": {},
   "outputs": [
    {
     "name": "stdout",
     "output_type": "stream",
     "text": [
      "['Michigan', 'Washington', 'Minnesota']\n"
     ]
    }
   ],
   "source": [
    "def s_cities_count(city_list):\n",
    "    ct = 0\n",
    "    for city in city_list:\n",
    "        if city[0] == \"S\":\n",
    "            ct += 1\n",
    "    return ct\n",
    "\n",
    "states = {\"Minnesota\": [\"St. Paul\", \"Minneapolis\", \"Saint Cloud\", \"Stillwater\"],\n",
    "          \"Michigan\": [\"Ann Arbor\", \"Traverse City\", \"Lansing\", \"Kalamazoo\"],\n",
    "          \"Washington\": [\"Seattle\", \"Tacoma\", \"Olympia\", \"Vancouver\"]}\n",
    "\n",
    "print(sorted(states, key=lambda state: s_cities_count(states[state])))"
   ]
  },
  {
   "cell_type": "markdown",
   "metadata": {},
   "source": [
    "At this point in the course, we don’t even know how to do such a filter and accumulation as part of a lambda expression. There is a way, using something called list comprehensions, but we haven’t covered that yet.\n",
    "\n",
    "There will be other situations that are even more complicated than this. In some cases, they may be too complicated to solve with a lambda expression at all! You can always fall back on writing a named function when a lambda expression will be too complicated."
   ]
  },
  {
   "cell_type": "code",
   "execution_count": null,
   "metadata": {},
   "outputs": [],
   "source": []
  }
 ],
 "metadata": {
  "kernelspec": {
   "display_name": "Python 3",
   "language": "python",
   "name": "python3"
  },
  "language_info": {
   "codemirror_mode": {
    "name": "ipython",
    "version": 3
   },
   "file_extension": ".py",
   "mimetype": "text/x-python",
   "name": "python",
   "nbconvert_exporter": "python",
   "pygments_lexer": "ipython3",
   "version": "3.7.2"
  }
 },
 "nbformat": 4,
 "nbformat_minor": 2
}
